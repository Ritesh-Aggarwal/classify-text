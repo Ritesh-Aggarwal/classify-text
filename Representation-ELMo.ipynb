{
 "cells": [
  {
   "cell_type": "code",
   "execution_count": 73,
   "metadata": {},
   "outputs": [],
   "source": [
    "# Code Source article : https://www.analyticsvidhya.com/blog/2019/03/learn-to-use-elmo-to-extract-features-from-text/"
   ]
  },
  {
   "cell_type": "code",
   "execution_count": 74,
   "metadata": {},
   "outputs": [
    {
     "name": "stdout",
     "output_type": "stream",
     "text": [
      "Requirement already satisfied: spacy in c:\\users\\rites\\anaconda3\\lib\\site-packages (3.5.3)\n",
      "Requirement already satisfied: typer<0.8.0,>=0.3.0 in c:\\users\\rites\\anaconda3\\lib\\site-packages (from spacy) (0.7.0)\n",
      "Requirement already satisfied: smart-open<7.0.0,>=5.2.1 in c:\\users\\rites\\anaconda3\\lib\\site-packages (from spacy) (5.2.1)\n",
      "Requirement already satisfied: murmurhash<1.1.0,>=0.28.0 in c:\\users\\rites\\anaconda3\\lib\\site-packages (from spacy) (1.0.9)\n",
      "Requirement already satisfied: catalogue<2.1.0,>=2.0.6 in c:\\users\\rites\\anaconda3\\lib\\site-packages (from spacy) (2.0.8)\n",
      "Requirement already satisfied: spacy-loggers<2.0.0,>=1.0.0 in c:\\users\\rites\\anaconda3\\lib\\site-packages (from spacy) (1.0.4)\n",
      "Requirement already satisfied: spacy-legacy<3.1.0,>=3.0.11 in c:\\users\\rites\\anaconda3\\lib\\site-packages (from spacy) (3.0.12)\n",
      "Requirement already satisfied: tqdm<5.0.0,>=4.38.0 in c:\\users\\rites\\anaconda3\\lib\\site-packages (from spacy) (4.64.1)\n",
      "Requirement already satisfied: pathy>=0.10.0 in c:\\users\\rites\\anaconda3\\lib\\site-packages (from spacy) (0.10.1)\n",
      "Requirement already satisfied: langcodes<4.0.0,>=3.2.0 in c:\\users\\rites\\anaconda3\\lib\\site-packages (from spacy) (3.3.0)\n",
      "Requirement already satisfied: cymem<2.1.0,>=2.0.2 in c:\\users\\rites\\anaconda3\\lib\\site-packages (from spacy) (2.0.7)\n",
      "Requirement already satisfied: pydantic!=1.8,!=1.8.1,<1.11.0,>=1.7.4 in c:\\users\\rites\\anaconda3\\lib\\site-packages (from spacy) (1.10.8)\n",
      "Requirement already satisfied: numpy>=1.15.0 in c:\\users\\rites\\anaconda3\\lib\\site-packages (from spacy) (1.23.5)\n",
      "Requirement already satisfied: srsly<3.0.0,>=2.4.3 in c:\\users\\rites\\anaconda3\\lib\\site-packages (from spacy) (2.4.6)\n",
      "Requirement already satisfied: setuptools in c:\\users\\rites\\anaconda3\\lib\\site-packages (from spacy) (65.6.3)\n",
      "Requirement already satisfied: requests<3.0.0,>=2.13.0 in c:\\users\\rites\\anaconda3\\lib\\site-packages (from spacy) (2.28.1)\n",
      "Requirement already satisfied: preshed<3.1.0,>=3.0.2 in c:\\users\\rites\\anaconda3\\lib\\site-packages (from spacy) (3.0.8)\n",
      "Requirement already satisfied: jinja2 in c:\\users\\rites\\anaconda3\\lib\\site-packages (from spacy) (3.1.2)\n",
      "Requirement already satisfied: wasabi<1.2.0,>=0.9.1 in c:\\users\\rites\\anaconda3\\lib\\site-packages (from spacy) (1.1.2)\n",
      "Requirement already satisfied: thinc<8.2.0,>=8.1.8 in c:\\users\\rites\\anaconda3\\lib\\site-packages (from spacy) (8.1.10)\n",
      "Requirement already satisfied: packaging>=20.0 in c:\\users\\rites\\anaconda3\\lib\\site-packages (from spacy) (22.0)\n",
      "Requirement already satisfied: typing-extensions>=4.2.0 in c:\\users\\rites\\anaconda3\\lib\\site-packages (from pydantic!=1.8,!=1.8.1,<1.11.0,>=1.7.4->spacy) (4.4.0)\n",
      "Requirement already satisfied: urllib3<1.27,>=1.21.1 in c:\\users\\rites\\anaconda3\\lib\\site-packages (from requests<3.0.0,>=2.13.0->spacy) (1.26.14)\n",
      "Requirement already satisfied: charset-normalizer<3,>=2 in c:\\users\\rites\\anaconda3\\lib\\site-packages (from requests<3.0.0,>=2.13.0->spacy) (2.0.4)\n",
      "Requirement already satisfied: certifi>=2017.4.17 in c:\\users\\rites\\anaconda3\\lib\\site-packages (from requests<3.0.0,>=2.13.0->spacy) (2022.12.7)\n",
      "Requirement already satisfied: idna<4,>=2.5 in c:\\users\\rites\\anaconda3\\lib\\site-packages (from requests<3.0.0,>=2.13.0->spacy) (3.4)\n",
      "Requirement already satisfied: confection<1.0.0,>=0.0.1 in c:\\users\\rites\\anaconda3\\lib\\site-packages (from thinc<8.2.0,>=8.1.8->spacy) (0.0.4)\n",
      "Requirement already satisfied: blis<0.8.0,>=0.7.8 in c:\\users\\rites\\anaconda3\\lib\\site-packages (from thinc<8.2.0,>=8.1.8->spacy) (0.7.9)\n",
      "Requirement already satisfied: colorama in c:\\users\\rites\\anaconda3\\lib\\site-packages (from tqdm<5.0.0,>=4.38.0->spacy) (0.4.6)\n",
      "Requirement already satisfied: click<9.0.0,>=7.1.1 in c:\\users\\rites\\anaconda3\\lib\\site-packages (from typer<0.8.0,>=0.3.0->spacy) (8.0.4)\n",
      "Requirement already satisfied: MarkupSafe>=2.0 in c:\\users\\rites\\anaconda3\\lib\\site-packages (from jinja2->spacy) (2.1.1)\n"
     ]
    }
   ],
   "source": [
    "import sys\n",
    "!{sys.executable} -m pip install spacy"
   ]
  },
  {
   "cell_type": "code",
   "execution_count": 75,
   "metadata": {},
   "outputs": [],
   "source": [
    "import pandas as pd\n",
    "import numpy as np\n",
    "import spacy\n",
    "from tqdm import tqdm\n",
    "import re\n",
    "import time\n",
    "import pickle\n",
    "#pd.set_option('display.max_colwidth', 200)"
   ]
  },
  {
   "cell_type": "code",
   "execution_count": 76,
   "metadata": {},
   "outputs": [],
   "source": [
    "data = pd.read_csv(\"./data.csv\")\n",
    "#data = pd.read_csv(\"/home/saksham/Desktop/BTP/data_collecion/data_cleaned_segregated.csv\")\n",
    "data.columns = [\"URL\", \"Text\", \"Start-Indices\", \"End-Indices\", \"Text-Type\"]"
   ]
  },
  {
   "cell_type": "code",
   "execution_count": 77,
   "metadata": {},
   "outputs": [
    {
     "name": "stdout",
     "output_type": "stream",
     "text": [
      "Training set size: (21255,)\n",
      "Test set size: (2362,)\n"
     ]
    }
   ],
   "source": [
    "from sklearn.model_selection import train_test_split\n",
    "X = data[\"Text\"]\n",
    "y=data[\"Text-Type\"]\n",
    "X_train, X_test, y_train, y_test = train_test_split(X,y, test_size=0.1, random_state=1)\n",
    "print(\"Training set size:\", X_train.shape)\n",
    "print(\"Test set size:\", X_test.shape)"
   ]
  },
  {
   "cell_type": "code",
   "execution_count": 78,
   "metadata": {},
   "outputs": [
    {
     "name": "stdout",
     "output_type": "stream",
     "text": [
      "Requirement already satisfied: tensorflow>=1.7.0 in c:\\users\\rites\\anaconda3\\lib\\site-packages (2.12.0)\n",
      "Requirement already satisfied: tensorflow-intel==2.12.0 in c:\\users\\rites\\anaconda3\\lib\\site-packages (from tensorflow>=1.7.0) (2.12.0)\n",
      "Requirement already satisfied: opt-einsum>=2.3.2 in c:\\users\\rites\\anaconda3\\lib\\site-packages (from tensorflow-intel==2.12.0->tensorflow>=1.7.0) (3.3.0)\n",
      "Requirement already satisfied: protobuf!=4.21.0,!=4.21.1,!=4.21.2,!=4.21.3,!=4.21.4,!=4.21.5,<5.0.0dev,>=3.20.3 in c:\\users\\rites\\anaconda3\\lib\\site-packages (from tensorflow-intel==2.12.0->tensorflow>=1.7.0) (4.23.2)\n",
      "Requirement already satisfied: tensorflow-estimator<2.13,>=2.12.0 in c:\\users\\rites\\anaconda3\\lib\\site-packages (from tensorflow-intel==2.12.0->tensorflow>=1.7.0) (2.12.0)\n",
      "Requirement already satisfied: grpcio<2.0,>=1.24.3 in c:\\users\\rites\\anaconda3\\lib\\site-packages (from tensorflow-intel==2.12.0->tensorflow>=1.7.0) (1.54.2)\n",
      "Requirement already satisfied: google-pasta>=0.1.1 in c:\\users\\rites\\anaconda3\\lib\\site-packages (from tensorflow-intel==2.12.0->tensorflow>=1.7.0) (0.2.0)\n",
      "Requirement already satisfied: astunparse>=1.6.0 in c:\\users\\rites\\anaconda3\\lib\\site-packages (from tensorflow-intel==2.12.0->tensorflow>=1.7.0) (1.6.3)\n",
      "Requirement already satisfied: keras<2.13,>=2.12.0 in c:\\users\\rites\\anaconda3\\lib\\site-packages (from tensorflow-intel==2.12.0->tensorflow>=1.7.0) (2.12.0)\n",
      "Requirement already satisfied: absl-py>=1.0.0 in c:\\users\\rites\\anaconda3\\lib\\site-packages (from tensorflow-intel==2.12.0->tensorflow>=1.7.0) (1.4.0)\n",
      "Requirement already satisfied: packaging in c:\\users\\rites\\anaconda3\\lib\\site-packages (from tensorflow-intel==2.12.0->tensorflow>=1.7.0) (22.0)\n",
      "Requirement already satisfied: tensorflow-io-gcs-filesystem>=0.23.1 in c:\\users\\rites\\anaconda3\\lib\\site-packages (from tensorflow-intel==2.12.0->tensorflow>=1.7.0) (0.31.0)\n",
      "Requirement already satisfied: wrapt<1.15,>=1.11.0 in c:\\users\\rites\\anaconda3\\lib\\site-packages (from tensorflow-intel==2.12.0->tensorflow>=1.7.0) (1.14.1)\n",
      "Requirement already satisfied: tensorboard<2.13,>=2.12 in c:\\users\\rites\\anaconda3\\lib\\site-packages (from tensorflow-intel==2.12.0->tensorflow>=1.7.0) (2.12.3)\n",
      "Requirement already satisfied: jax>=0.3.15 in c:\\users\\rites\\anaconda3\\lib\\site-packages (from tensorflow-intel==2.12.0->tensorflow>=1.7.0) (0.4.10)\n",
      "Requirement already satisfied: typing-extensions>=3.6.6 in c:\\users\\rites\\anaconda3\\lib\\site-packages (from tensorflow-intel==2.12.0->tensorflow>=1.7.0) (4.4.0)\n",
      "Requirement already satisfied: setuptools in c:\\users\\rites\\anaconda3\\lib\\site-packages (from tensorflow-intel==2.12.0->tensorflow>=1.7.0) (65.6.3)\n",
      "Requirement already satisfied: numpy<1.24,>=1.22 in c:\\users\\rites\\anaconda3\\lib\\site-packages (from tensorflow-intel==2.12.0->tensorflow>=1.7.0) (1.23.5)\n",
      "Requirement already satisfied: termcolor>=1.1.0 in c:\\users\\rites\\anaconda3\\lib\\site-packages (from tensorflow-intel==2.12.0->tensorflow>=1.7.0) (2.3.0)\n",
      "Requirement already satisfied: gast<=0.4.0,>=0.2.1 in c:\\users\\rites\\anaconda3\\lib\\site-packages (from tensorflow-intel==2.12.0->tensorflow>=1.7.0) (0.4.0)\n",
      "Requirement already satisfied: flatbuffers>=2.0 in c:\\users\\rites\\anaconda3\\lib\\site-packages (from tensorflow-intel==2.12.0->tensorflow>=1.7.0) (23.5.26)\n",
      "Requirement already satisfied: libclang>=13.0.0 in c:\\users\\rites\\anaconda3\\lib\\site-packages (from tensorflow-intel==2.12.0->tensorflow>=1.7.0) (16.0.0)\n",
      "Requirement already satisfied: h5py>=2.9.0 in c:\\users\\rites\\anaconda3\\lib\\site-packages (from tensorflow-intel==2.12.0->tensorflow>=1.7.0) (3.7.0)\n",
      "Requirement already satisfied: six>=1.12.0 in c:\\users\\rites\\anaconda3\\lib\\site-packages (from tensorflow-intel==2.12.0->tensorflow>=1.7.0) (1.16.0)\n",
      "Requirement already satisfied: wheel<1.0,>=0.23.0 in c:\\users\\rites\\anaconda3\\lib\\site-packages (from astunparse>=1.6.0->tensorflow-intel==2.12.0->tensorflow>=1.7.0) (0.38.4)\n",
      "Requirement already satisfied: scipy>=1.7 in c:\\users\\rites\\anaconda3\\lib\\site-packages (from jax>=0.3.15->tensorflow-intel==2.12.0->tensorflow>=1.7.0) (1.10.0)\n",
      "Requirement already satisfied: ml-dtypes>=0.1.0 in c:\\users\\rites\\anaconda3\\lib\\site-packages (from jax>=0.3.15->tensorflow-intel==2.12.0->tensorflow>=1.7.0) (0.1.0)\n",
      "Requirement already satisfied: werkzeug>=1.0.1 in c:\\users\\rites\\anaconda3\\lib\\site-packages (from tensorboard<2.13,>=2.12->tensorflow-intel==2.12.0->tensorflow>=1.7.0) (2.2.2)\n",
      "Requirement already satisfied: tensorboard-data-server<0.8.0,>=0.7.0 in c:\\users\\rites\\anaconda3\\lib\\site-packages (from tensorboard<2.13,>=2.12->tensorflow-intel==2.12.0->tensorflow>=1.7.0) (0.7.0)\n",
      "Requirement already satisfied: google-auth-oauthlib<1.1,>=0.5 in c:\\users\\rites\\anaconda3\\lib\\site-packages (from tensorboard<2.13,>=2.12->tensorflow-intel==2.12.0->tensorflow>=1.7.0) (1.0.0)\n",
      "Requirement already satisfied: google-auth<3,>=1.6.3 in c:\\users\\rites\\anaconda3\\lib\\site-packages (from tensorboard<2.13,>=2.12->tensorflow-intel==2.12.0->tensorflow>=1.7.0) (2.19.0)\n",
      "Requirement already satisfied: markdown>=2.6.8 in c:\\users\\rites\\anaconda3\\lib\\site-packages (from tensorboard<2.13,>=2.12->tensorflow-intel==2.12.0->tensorflow>=1.7.0) (3.4.1)\n",
      "Requirement already satisfied: requests<3,>=2.21.0 in c:\\users\\rites\\anaconda3\\lib\\site-packages (from tensorboard<2.13,>=2.12->tensorflow-intel==2.12.0->tensorflow>=1.7.0) (2.28.1)\n",
      "Requirement already satisfied: rsa<5,>=3.1.4 in c:\\users\\rites\\anaconda3\\lib\\site-packages (from google-auth<3,>=1.6.3->tensorboard<2.13,>=2.12->tensorflow-intel==2.12.0->tensorflow>=1.7.0) (4.9)\n",
      "Requirement already satisfied: urllib3<2.0 in c:\\users\\rites\\anaconda3\\lib\\site-packages (from google-auth<3,>=1.6.3->tensorboard<2.13,>=2.12->tensorflow-intel==2.12.0->tensorflow>=1.7.0) (1.26.14)\n",
      "Requirement already satisfied: pyasn1-modules>=0.2.1 in c:\\users\\rites\\anaconda3\\lib\\site-packages (from google-auth<3,>=1.6.3->tensorboard<2.13,>=2.12->tensorflow-intel==2.12.0->tensorflow>=1.7.0) (0.2.8)\n",
      "Requirement already satisfied: cachetools<6.0,>=2.0.0 in c:\\users\\rites\\anaconda3\\lib\\site-packages (from google-auth<3,>=1.6.3->tensorboard<2.13,>=2.12->tensorflow-intel==2.12.0->tensorflow>=1.7.0) (5.3.0)\n",
      "Requirement already satisfied: requests-oauthlib>=0.7.0 in c:\\users\\rites\\anaconda3\\lib\\site-packages (from google-auth-oauthlib<1.1,>=0.5->tensorboard<2.13,>=2.12->tensorflow-intel==2.12.0->tensorflow>=1.7.0) (1.3.1)\n",
      "Requirement already satisfied: certifi>=2017.4.17 in c:\\users\\rites\\anaconda3\\lib\\site-packages (from requests<3,>=2.21.0->tensorboard<2.13,>=2.12->tensorflow-intel==2.12.0->tensorflow>=1.7.0) (2022.12.7)\n",
      "Requirement already satisfied: charset-normalizer<3,>=2 in c:\\users\\rites\\anaconda3\\lib\\site-packages (from requests<3,>=2.21.0->tensorboard<2.13,>=2.12->tensorflow-intel==2.12.0->tensorflow>=1.7.0) (2.0.4)\n",
      "Requirement already satisfied: idna<4,>=2.5 in c:\\users\\rites\\anaconda3\\lib\\site-packages (from requests<3,>=2.21.0->tensorboard<2.13,>=2.12->tensorflow-intel==2.12.0->tensorflow>=1.7.0) (3.4)\n",
      "Requirement already satisfied: MarkupSafe>=2.1.1 in c:\\users\\rites\\anaconda3\\lib\\site-packages (from werkzeug>=1.0.1->tensorboard<2.13,>=2.12->tensorflow-intel==2.12.0->tensorflow>=1.7.0) (2.1.1)\n",
      "Requirement already satisfied: pyasn1<0.5.0,>=0.4.6 in c:\\users\\rites\\anaconda3\\lib\\site-packages (from pyasn1-modules>=0.2.1->google-auth<3,>=1.6.3->tensorboard<2.13,>=2.12->tensorflow-intel==2.12.0->tensorflow>=1.7.0) (0.4.8)\n",
      "Requirement already satisfied: oauthlib>=3.0.0 in c:\\users\\rites\\anaconda3\\lib\\site-packages (from requests-oauthlib>=0.7.0->google-auth-oauthlib<1.1,>=0.5->tensorboard<2.13,>=2.12->tensorflow-intel==2.12.0->tensorflow>=1.7.0) (3.2.2)\n",
      "Requirement already satisfied: tensorflow-hub in c:\\users\\rites\\anaconda3\\lib\\site-packages (0.13.0)\n",
      "Requirement already satisfied: numpy>=1.12.0 in c:\\users\\rites\\anaconda3\\lib\\site-packages (from tensorflow-hub) (1.23.5)\n",
      "Requirement already satisfied: protobuf>=3.19.6 in c:\\users\\rites\\anaconda3\\lib\\site-packages (from tensorflow-hub) (4.23.2)\n"
     ]
    }
   ],
   "source": [
    "import sys\n",
    "!{sys.executable} -m pip install \"tensorflow>=1.7.0\"\n",
    "import sys\n",
    "!{sys.executable} -m pip install tensorflow-hub"
   ]
  },
  {
   "cell_type": "code",
   "execution_count": 79,
   "metadata": {},
   "outputs": [],
   "source": [
    "import tensorflow_hub as hub\n",
    "import tensorflow as tf\n",
    "# Clear the TensorFlow graph\n",
    "tf.compat.v1.reset_default_graph()\n",
    "tf.compat.v1.disable_eager_execution()\n",
    "elmo = hub.load(\"https://tfhub.dev/google/elmo/3\")"
   ]
  },
  {
   "cell_type": "code",
   "execution_count": 80,
   "metadata": {},
   "outputs": [],
   "source": [
    "def elmo_vectors(x):\n",
    "    embeddings =  embeddings = elmo.signatures[\"default\"](tf.constant(x))[\"elmo\"]\n",
    "    return embeddings\n",
    "#   with tf.Session() as sess:\n",
    "#     sess.run(tf.global_variables_initializer())\n",
    "#     sess.run(tf.tables_initializer())\n",
    "#     # return average of ELMo features\n",
    "#     return sess.run(tf.reduce_mean(embeddings,1))"
   ]
  },
  {
   "cell_type": "code",
   "execution_count": 81,
   "metadata": {},
   "outputs": [],
   "source": [
    "list_train = [X_train[i:i+100] for i in range(0,X_train.shape[0],100)]\n",
    "list_test = [X_test[i:i+100] for i in range(0,X_test.shape[0],100)]"
   ]
  },
  {
   "cell_type": "code",
   "execution_count": 82,
   "metadata": {},
   "outputs": [],
   "source": [
    "elmo_train = [elmo_vectors(x) for x in list_train]\n",
    "elmo_test = [elmo_vectors(x) for x in list_test]"
   ]
  },
  {
   "cell_type": "code",
   "execution_count": 83,
   "metadata": {},
   "outputs": [],
   "source": [
    "# elmo_train_new = np.concatenate(elmo_train, axis = 0)\n",
    "# elmo_test_new = np.concatenate(elmo_test, axis = 0)\n",
    "\n",
    "# # save elmo_train_new\n",
    "# pickle_out = open(\"elmo_train_03032019.pickle\",\"wb\")\n",
    "# pickle.dump(elmo_train_new, pickle_out)\n",
    "# pickle_out.close()\n",
    "\n",
    "# # save elmo_test_new\n",
    "# pickle_out = open(\"elmo_test_03032019.pickle\",\"wb\")\n",
    "# pickle.dump(elmo_test_new, pickle_out)\n",
    "# pickle_out.close()"
   ]
  },
  {
   "cell_type": "code",
   "execution_count": 84,
   "metadata": {},
   "outputs": [
    {
     "ename": "NameError",
     "evalue": "name 'elmo_train_new' is not defined",
     "output_type": "error",
     "traceback": [
      "\u001b[1;31m---------------------------------------------------------------------------\u001b[0m",
      "\u001b[1;31mNameError\u001b[0m                                 Traceback (most recent call last)",
      "Cell \u001b[1;32mIn[84], line 3\u001b[0m\n\u001b[0;32m      1\u001b[0m \u001b[38;5;28;01mfrom\u001b[39;00m \u001b[38;5;21;01msklearn\u001b[39;00m\u001b[38;5;21;01m.\u001b[39;00m\u001b[38;5;21;01mmodel_selection\u001b[39;00m \u001b[38;5;28;01mimport\u001b[39;00m train_test_split\n\u001b[1;32m----> 3\u001b[0m xtrain, xvalid, ytrain, yvalid \u001b[38;5;241m=\u001b[39m train_test_split(\u001b[43melmo_train_new\u001b[49m, \n\u001b[0;32m      4\u001b[0m                                                   train[\u001b[38;5;124m'\u001b[39m\u001b[38;5;124mlabel\u001b[39m\u001b[38;5;124m'\u001b[39m],  \n\u001b[0;32m      5\u001b[0m                                                   random_state\u001b[38;5;241m=\u001b[39m\u001b[38;5;241m42\u001b[39m, \n\u001b[0;32m      6\u001b[0m                                                   test_size\u001b[38;5;241m=\u001b[39m\u001b[38;5;241m0.2\u001b[39m)\n\u001b[0;32m      7\u001b[0m \u001b[38;5;28;01mfrom\u001b[39;00m \u001b[38;5;21;01msklearn\u001b[39;00m\u001b[38;5;21;01m.\u001b[39;00m\u001b[38;5;21;01mlinear_model\u001b[39;00m \u001b[38;5;28;01mimport\u001b[39;00m LogisticRegression\n\u001b[0;32m      8\u001b[0m \u001b[38;5;28;01mfrom\u001b[39;00m \u001b[38;5;21;01msklearn\u001b[39;00m\u001b[38;5;21;01m.\u001b[39;00m\u001b[38;5;21;01mmetrics\u001b[39;00m \u001b[38;5;28;01mimport\u001b[39;00m f1_score\n",
      "\u001b[1;31mNameError\u001b[0m: name 'elmo_train_new' is not defined"
     ]
    }
   ],
   "source": [
    "\n",
    "from sklearn.model_selection import train_test_split\n",
    "\n",
    "xtrain, xvalid, ytrain, yvalid = train_test_split(elmo_train_new, \n",
    "                                                  train['label'],  \n",
    "                                                  random_state=42, \n",
    "                                                  test_size=0.2)\n",
    "from sklearn.linear_model import LogisticRegression\n",
    "from sklearn.metrics import f1_score\n",
    "\n",
    "lreg = LogisticRegression()\n",
    "lreg.fit(xtrain, ytrain)"
   ]
  },
  {
   "cell_type": "code",
   "execution_count": null,
   "metadata": {},
   "outputs": [],
   "source": [
    "# make predictions on test set\n",
    "preds_test = lreg.predict(elmo_test_new)"
   ]
  },
  {
   "cell_type": "code",
   "execution_count": null,
   "metadata": {},
   "outputs": [],
   "source": [
    "\n",
    "# prepare submission dataframe\n",
    "sub = pd.DataFrame({'id':test['id'], 'label':preds_test})\n",
    "\n",
    "# write predictions to a CSV file\n",
    "sub.to_csv(\"sub_lreg.csv\", index=False)"
   ]
  }
 ],
 "metadata": {
  "kernelspec": {
   "display_name": "Python 3 (ipykernel)",
   "language": "python",
   "name": "python3"
  },
  "language_info": {
   "codemirror_mode": {
    "name": "ipython",
    "version": 3
   },
   "file_extension": ".py",
   "mimetype": "text/x-python",
   "name": "python",
   "nbconvert_exporter": "python",
   "pygments_lexer": "ipython3",
   "version": "3.10.9"
  }
 },
 "nbformat": 4,
 "nbformat_minor": 2
}
